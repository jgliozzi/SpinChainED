{
 "cells": [
  {
   "cell_type": "markdown",
   "id": "4bb58575-1b7e-429a-b4b4-f81d7815be64",
   "metadata": {
    "tags": []
   },
   "source": [
    "# Tutorial: Using the SpinChain class"
   ]
  },
  {
   "cell_type": "code",
   "execution_count": 108,
   "id": "255bceb7-9c74-4ba4-baad-e5717fc84571",
   "metadata": {
    "tags": []
   },
   "outputs": [],
   "source": [
    "# generic import statements\n",
    "import numpy as np\n",
    "from scipy.sparse import linalg as slinalg\n",
    "from matplotlib import pyplot as plt\n",
    "# import tensor product function, SpinChain class\n",
    "from SpinChain import tp, SpinChain "
   ]
  },
  {
   "cell_type": "markdown",
   "id": "763597ed-6695-408c-9b0a-3c201eb98600",
   "metadata": {
    "tags": []
   },
   "source": [
    "## Initializing a Spin Chain"
   ]
  },
  {
   "cell_type": "markdown",
   "id": "1205369d-0bc0-4cb3-92a6-1bde92269853",
   "metadata": {
    "tags": []
   },
   "source": [
    "First, we can initialize an empty spin chain by setting the spin, length, and boundary conditions. In this example, we initialize a chain of length `L` $=8$ with sites that contain a `spin` $=1/2$ degree of freedom. For now, we take open boundary conditions by setting `bc` to zero, but could consider periodic or antiperiodic boundary conditions with $\\pm 1$."
   ]
  },
  {
   "cell_type": "code",
   "execution_count": 100,
   "id": "58e2d812-f88e-469f-87a4-584a360247b4",
   "metadata": {
    "tags": []
   },
   "outputs": [
    {
     "name": "stdout",
     "output_type": "stream",
     "text": [
      "<class 'SpinChain.SpinChain'>\n",
      "L = 8, spin = 0.5, bc = 0j\n"
     ]
    }
   ],
   "source": [
    "chain = SpinChain(L=8, spin=1/2, bc=0) # initialize system with spin 1/2\n",
    "chain_pbc = SpinChain(L=8, spin=1/2, bc=1) # periodic version of same chain\n",
    "# print type and attributes\n",
    "print(type(chain))\n",
    "print(f'L = {chain.L}, spin = {chain.spin}, bc = {chain.bc}')"
   ]
  },
  {
   "cell_type": "markdown",
   "id": "a078a45b-a98d-41f8-a1a2-d65db938a398",
   "metadata": {},
   "source": [
    "We also have access to the local spin operators as an attribute: `SpinChain.spin_mat_list`. In order, this returns the identity $\\mathbb{1}$, the spin-z operator $S^z$, and the raising and lowering operators $S^+$ and $S^-$. A more flexible way to get local (spin) operators is to use the `SpinChain.getPauli()` method. Depending on its optional argument, this method returns the lists $\\{\\mathbb{1}, S^z, S^+, S^-\\}$ (`basis = pm`, default), $\\{\\mathbb{1}, S^x, S^y, S^z\\}$   (`basis = xyz`), the $2 \\times 2$ Pauli matrices $\\{\\mathbb{1}, \\sigma^x, \\sigma^y, \\sigma^z\\}$ (`basis = pauli`), or their qudit generalization to clock and shift matrices $\\{\\mathbb{1}, Z, X\\}$ (`basis = clock_shift`)."
   ]
  },
  {
   "cell_type": "code",
   "execution_count": 101,
   "id": "51be5bdb-0c76-4157-85a6-6f08c73d9bb3",
   "metadata": {
    "tags": []
   },
   "outputs": [
    {
     "name": "stdout",
     "output_type": "stream",
     "text": [
      "Sz = [[-0.5  0. ]\n",
      " [ 0.   0.5]]\n",
      "S+ = [[0. 1.]\n",
      " [0. 0.]]\n",
      "************\n",
      "σz = [[ 1  0]\n",
      " [ 0 -1]]\n",
      "σx = [[0 1]\n",
      " [1 0]]\n",
      "************\n",
      "X = [[0. 1. 0.]\n",
      " [0. 0. 1.]\n",
      " [1. 0. 0.]]\n"
     ]
    }
   ],
   "source": [
    "# Note that these are true spin operators (for spin-1/2 they are 1/2 of Pauli matrices)\n",
    "s0, sz, sp, sm = chain.getPauli()\n",
    "print(f'Sz = {sz}')\n",
    "print(f'S+ = {sp}')\n",
    "print(12*\"*\")\n",
    "\n",
    "# exact 2x2 spin-1/2 Pauli matrics\n",
    "sigma0, sigmax, sigmay, sigmaz = chain.getPauli('pauli')\n",
    "print(f'\\u03C3z = {sigmaz}')\n",
    "print(f'\\u03C3x = {sigmax}')\n",
    "print(12*\"*\")\n",
    "\n",
    "# Show clock and shift operators for qutrit (spin-1 -> 3-site Hilbert space)\n",
    "Id, Z, X = SpinChain(spin=1, L=1, bc=0).getPauli('clock_shift')\n",
    "print(f'X = {X}')"
   ]
  },
  {
   "cell_type": "markdown",
   "id": "7837dab7-8152-4352-877c-cc560f1f9661",
   "metadata": {
    "tags": []
   },
   "source": [
    "## Initializing a Hamiltonian"
   ]
  },
  {
   "cell_type": "markdown",
   "id": "bccb8b9c-e5a0-4b93-9dc7-935e46e5800d",
   "metadata": {},
   "source": [
    "We can now make our system more interesting by including local Hamiltonian terms that define the interactions in the spin chain. This is implemented by adding the tensor product of local operators acting on a list of sites. For periodically repeating terms, one must specify a *list of local site lists* at which to apply the operators. Such local site lists should be written in *ascending order when they do not wrap around the boundary* of the chain: terms that *do* wrap around the chain are ignored for open boundary conditions.\n",
    "\n",
    "Here, we consider a free fermion Hamiltonian with nearest-neighbor hopping in OBC, which by the [Jordan-Wigner transformation](https://en.wikipedia.org/wiki/Jordan%E2%80%93Wigner_transformation) can be mapped to a nearest-neighbor spin-conserving model: $H = -t \\sum_j (S^+_i S^-_{i+1} + S^-_i S^+_{i+1})$. After adding these local operators at all nearest neighbor pairs of sites, we can use `SpinChain.getHam()` to return the sparse Hamiltonian array. If needed, we can make it dense by using `numpy.ndarray.todense()`. For large systems, we can improve performance by constructing only half of the hopping terms and then calling `SpinChain.plusConj()` to automatically add the Hermitian conjugate to the Hamiltonian. "
   ]
  },
  {
   "cell_type": "code",
   "execution_count": 102,
   "id": "af646e0b-a50d-4aa0-af61-02effcf909a5",
   "metadata": {
    "tags": []
   },
   "outputs": [
    {
     "name": "stdout",
     "output_type": "stream",
     "text": [
      "<class 'scipy.sparse._arrays.bsr_array'>\n",
      "(256, 256)\n"
     ]
    }
   ],
   "source": [
    "t = 1\n",
    "hop_left, hop_right = [sp, sm], [sm, sp] # two hopping operators\n",
    "pairs = [[site, site+1] for site in range(chain.L)] # site pairs where operators act\n",
    "\n",
    "# N.B. site indices are always taken mod L inside the SpinChain class\n",
    "# This means that the last pairing in sites is interpreted as [7, 0] instead of [7, 8]\n",
    "# The [7,0] coupling wraps around the 1D chain, and is only considered if bc != 0\n",
    "\n",
    "# add nearest neighbor spin hopping to chain with obc\n",
    "chain.setHamTerm(op_list = hop_left, site_list_list = pairs, coeff = -t)\n",
    "chain.setHamTerm(op_list = hop_right, site_list_list = pairs, coeff = -t)\n",
    "\n",
    "# get full sparse Hamiltonian\n",
    "H = chain.getHam()\n",
    "print(type(H))\n",
    "print(H.shape)"
   ]
  },
  {
   "cell_type": "markdown",
   "id": "0a9ad3a7-84c3-4f62-8c4b-39dff65b297f",
   "metadata": {},
   "source": [
    "## Exact diagonalization"
   ]
  },
  {
   "cell_type": "markdown",
   "id": "737827cf-1795-413a-8313-9d56f0a2a7fe",
   "metadata": {},
   "source": [
    "We are finally ready to actually perform the exact diagonalization. If the system is not too big ($L \\lesssim 10$), the spectrum and states of the Hamiltonian can be found exactly without sparse matrix methods. Beyond that regime, we must use symmetries to reduce the size of the Hilbert space, or resort to sparse matrix methods to find a few eigenvalues/vectors."
   ]
  },
  {
   "cell_type": "code",
   "execution_count": 120,
   "id": "fc879a63-dfe5-4fc6-b7e9-ae854fb34758",
   "metadata": {
    "tags": []
   },
   "outputs": [
    {
     "name": "stdout",
     "output_type": "stream",
     "text": [
      "Full Hilbert space dimension: 256\n",
      "(256,)\n",
      "********************\n",
      "[-4.75877048 -4.41147413 -4.41147413 -4.06417777] [-4.75877048 -4.41147413 -4.41147413 -4.06417777]\n",
      "********************\n",
      "Hilbert space dimension with M=0 fixed: 70\n",
      "(70,)\n"
     ]
    }
   ],
   "source": [
    "# diagonalize the full 10-site spin chain\n",
    "print('Full Hilbert space dimension:', chain.getHilbertDim()) # hilbert space dimensions\n",
    "vals, vecs = np.linalg.eigh(H.toarray())\n",
    "print(vals.shape)\n",
    "print(20*'*')\n",
    "\n",
    "# only find the lowest four energies and states using sparse matrix techniques (Lanczos)\n",
    "vals_sparse, vecs_sparse = slinalg.eigsh(H, k=4, which='SA', return_eigenvectors=True)\n",
    "print(vals[:4], np.sort(vals_sparse[:4]))\n",
    "print(20*'*')\n",
    "\n",
    "# project the Hamiltonian into the Magnetization = 0 sector (e.g. fixing particle number at half-filling)\n",
    "# diagonalize only this projected block\n",
    "chain.projectHam(M=0)\n",
    "H_projected = chain.getHam()\n",
    "print('Hilbert space dimension with M=0 fixed:', chain.getHilbertDim())\n",
    "vals, vecs = np.linalg.eigh(H_projected.toarray())\n",
    "print(vals.shape)\n",
    "\n",
    "# return to the full Hilbert space\n",
    "chain.unprojectHam()"
   ]
  },
  {
   "cell_type": "code",
   "execution_count": null,
   "id": "0b1c39b3-7477-418d-b9e3-7f26dc55e11b",
   "metadata": {},
   "outputs": [],
   "source": []
  }
 ],
 "metadata": {
  "kernelspec": {
   "display_name": "Python 3 (ipykernel)",
   "language": "python",
   "name": "python3"
  },
  "language_info": {
   "codemirror_mode": {
    "name": "ipython",
    "version": 3
   },
   "file_extension": ".py",
   "mimetype": "text/x-python",
   "name": "python",
   "nbconvert_exporter": "python",
   "pygments_lexer": "ipython3",
   "version": "3.10.11"
  }
 },
 "nbformat": 4,
 "nbformat_minor": 5
}
