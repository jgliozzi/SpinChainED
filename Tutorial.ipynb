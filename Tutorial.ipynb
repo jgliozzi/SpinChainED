{
 "cells": [
  {
   "cell_type": "markdown",
   "id": "4bb58575-1b7e-429a-b4b4-f81d7815be64",
   "metadata": {
    "tags": []
   },
   "source": [
    "# Tutorial: Using the SpinChain class"
   ]
  },
  {
   "cell_type": "code",
   "execution_count": 33,
   "id": "255bceb7-9c74-4ba4-baad-e5717fc84571",
   "metadata": {
    "tags": []
   },
   "outputs": [],
   "source": [
    "# generic import statements\n",
    "import numpy as np\n",
    "from scipy.sparse import linalg as slinalg\n",
    "from matplotlib import pyplot as plt\n",
    "# import tensor product function, SpinChain class\n",
    "from SpinChain import tp, SpinChain "
   ]
  },
  {
   "cell_type": "markdown",
   "id": "763597ed-6695-408c-9b0a-3c201eb98600",
   "metadata": {
    "tags": []
   },
   "source": [
    "## Initializing a Spin Chain"
   ]
  },
  {
   "cell_type": "markdown",
   "id": "1205369d-0bc0-4cb3-92a6-1bde92269853",
   "metadata": {
    "tags": []
   },
   "source": [
    "First, we can initialize an empty spin chain by setting the spin, length, and boundary conditions. In this example, we initialize a chain of length `L` $=8$ with sites that contain a `spin` $=1/2$ degree of freedom. For now, we take open boundary conditions by setting `bc` to zero, but could consider periodic or antiperiodic boundary conditions with $\\pm 1$."
   ]
  },
  {
   "cell_type": "code",
   "execution_count": 34,
   "id": "58e2d812-f88e-469f-87a4-584a360247b4",
   "metadata": {
    "tags": []
   },
   "outputs": [
    {
     "name": "stdout",
     "output_type": "stream",
     "text": [
      "<class 'SpinChain.SpinChain'>\n",
      "L = 8, spin = 0.5, bc = 0j\n"
     ]
    }
   ],
   "source": [
    "chain = SpinChain(spin=1/2, L=8, bc=0) # initialize system with spin 1/2\n",
    "chain_pbc = SpinChain(spin=1/2, L=8, bc=1) # periodic version of same chain\n",
    "# print type and attributes\n",
    "print(type(chain))\n",
    "print(f'L = {chain.L}, spin = {chain.spin}, bc = {chain.bc}')"
   ]
  },
  {
   "cell_type": "markdown",
   "id": "a078a45b-a98d-41f8-a1a2-d65db938a398",
   "metadata": {},
   "source": [
    "We also have access to the local spin operators as an attribute: `SpinChain.spin_mat_list`. In order, this returns the identity $\\mathbb{1}$, the spin-z operator $S^z$, and the raising and lowering operators $S^+$ and $S^-$. A more flexible way to get local (spin) operators is to use the `SpinChain.getPauli()` method. Depending on its optional argument, this method returns the lists $\\{\\mathbb{1}, S^z, S^+, S^-\\}$ (`basis = pm`, default), $\\{\\mathbb{1}, S^x, S^y, S^z\\}$   (`basis = xyz`), the $2 \\times 2$ Pauli matrices $\\{\\mathbb{1}, \\sigma^x, \\sigma^y, \\sigma^z\\}$ (`basis = pauli`), or their qudit generalization to clock and shift matrices $\\{\\mathbb{1}, Z, X\\}$ (`basis = clock_shift`)."
   ]
  },
  {
   "cell_type": "code",
   "execution_count": 35,
   "id": "51be5bdb-0c76-4157-85a6-6f08c73d9bb3",
   "metadata": {
    "tags": []
   },
   "outputs": [
    {
     "name": "stdout",
     "output_type": "stream",
     "text": [
      "Sz = [[-0.5  0. ]\n",
      " [ 0.   0.5]]\n",
      "S+ = [[0. 1.]\n",
      " [0. 0.]]\n",
      "************\n",
      "σz = [[ 1  0]\n",
      " [ 0 -1]]\n",
      "σx = [[0 1]\n",
      " [1 0]]\n",
      "************\n",
      "X = [[0. 1. 0.]\n",
      " [0. 0. 1.]\n",
      " [1. 0. 0.]]\n"
     ]
    }
   ],
   "source": [
    "# Note that these are true spin operators (for spin-1/2 they are 1/2 of Pauli matrices)\n",
    "s0, sz, sp, sm = chain.getPauli()\n",
    "print(f'Sz = {sz}')\n",
    "print(f'S+ = {sp}')\n",
    "print(12*\"*\")\n",
    "\n",
    "# exact 2x2 spin-1/2 Pauli matrics\n",
    "sigma0, sigmax, sigmay, sigmaz = chain.getPauli('pauli')\n",
    "print(f'\\u03C3z = {sigmaz}')\n",
    "print(f'\\u03C3x = {sigmax}')\n",
    "print(12*\"*\")\n",
    "\n",
    "# Show clock and shift operators for qutrit (spin-1 -> 3-site Hilbert space)\n",
    "Id, Z, X = SpinChain(spin=1, L=1, bc=0).getPauli('clock_shift')\n",
    "print(f'X = {X}')"
   ]
  },
  {
   "cell_type": "markdown",
   "id": "7837dab7-8152-4352-877c-cc560f1f9661",
   "metadata": {
    "tags": []
   },
   "source": [
    "## Initializing a Hamiltonian"
   ]
  },
  {
   "cell_type": "markdown",
   "id": "bccb8b9c-e5a0-4b93-9dc7-935e46e5800d",
   "metadata": {},
   "source": [
    "We can now make our system more interesting by including local Hamiltonian terms that define the interactions in the spin chain. This is implemented as tensor products of local operators acting on a list of sites. For periodically repeating terms, one must specify a *list of local site lists* at which to apply the operators. Such local site lists should be written in *ascending order when they do not wrap around the boundary* of the chain: terms that *do* wrap around the chain are ignored for open boundary conditions.\n",
    "\n",
    "Here, we consider a free fermion Hamiltonian with nearest-neighbor hopping in OBC, which by the [Jordan-Wigner transformation](https://en.wikipedia.org/wiki/Jordan%E2%80%93Wigner_transformation) can be mapped to a nearest-neighbor spin-conserving model: $H = -t \\sum_j (S^+_i S^-_{i+1} + S^-_i S^+_{i+1})$. After adding these local operators at all nearest neighbor pairs of sites, we can use `SpinChain.getHam()` to return the sparse Hamiltonian array. If needed, we can make it dense by using `numpy.ndarray.todense()`. For large systems, we can improve performance by constructing only half of the hopping terms and then calling `SpinChain.plusConj()` to automatically add the Hermitian conjugate to the Hamiltonian. "
   ]
  },
  {
   "cell_type": "code",
   "execution_count": 36,
   "id": "af646e0b-a50d-4aa0-af61-02effcf909a5",
   "metadata": {
    "tags": []
   },
   "outputs": [
    {
     "name": "stdout",
     "output_type": "stream",
     "text": [
      "<class 'scipy.sparse._arrays.bsr_array'>\n",
      "(256, 256)\n"
     ]
    }
   ],
   "source": [
    "t = 1\n",
    "hop_left = [sp, sm] # local hopping operator\n",
    "pairs = [[site, site+1] for site in range(chain.L)] # (nearest neighbor) site pairs where local operators act\n",
    "\n",
    "# N.B. site indices are always taken mod L inside the SpinChain class\n",
    "# This means that the last pairing in sites is interpreted as [7, 0] instead of [7, 8]\n",
    "# The [7,0] coupling wraps around the 1D chain, and is only considered if bc != 0\n",
    "\n",
    "chain.setHamTerm(op_list = hop_left, site_list_list = pairs, coeff = -t) # NN spin hopping\n",
    "chain.plusConj() # add h.c.\n",
    "\n",
    "# get full sparse Hamiltonian\n",
    "H = chain.getHam()\n",
    "print(type(H))\n",
    "print(H.shape)"
   ]
  },
  {
   "cell_type": "markdown",
   "id": "0a9ad3a7-84c3-4f62-8c4b-39dff65b297f",
   "metadata": {
    "tags": []
   },
   "source": [
    "## Exact diagonalization"
   ]
  },
  {
   "cell_type": "markdown",
   "id": "737827cf-1795-413a-8313-9d56f0a2a7fe",
   "metadata": {},
   "source": [
    "We are finally ready to actually perform the exact diagonalization. If the system is not too big ($L \\lesssim 10$), the spectrum and states of the Hamiltonian can be found exactly without sparse matrix methods. Beyond that regime, we must use symmetries to reduce the size of the Hilbert space, or resort to sparse matrix methods to find a few eigenvalues/vectors. In particular, we can reduce the size of the Hilbert space drastically by working in a fixed charge (particle number) symmetry sector."
   ]
  },
  {
   "cell_type": "code",
   "execution_count": 37,
   "id": "fc879a63-dfe5-4fc6-b7e9-ae854fb34758",
   "metadata": {
    "tags": []
   },
   "outputs": [
    {
     "name": "stdout",
     "output_type": "stream",
     "text": [
      "Full Hilbert space dimension: 256\n",
      "(256,)\n",
      "********************\n",
      "Eigvals exact: [-4.75877048 -4.41147413 -4.41147413 -4.06417777]\n",
      "Eigvals sparse: [-4.75877048 -4.41147413 -4.41147413 -4.06417777]\n",
      "********************\n",
      "Hilbert space dimension with M=0 fixed: 70\n",
      "Eigvals in sector: [-4.75877048 -4.06417777 -3.41147413 -3.41147413]\n",
      "(70,)\n"
     ]
    }
   ],
   "source": [
    "# diagonalize the full 10-site spin chain\n",
    "print('Full Hilbert space dimension:', chain.getHilbertDim())\n",
    "vals, vecs = np.linalg.eigh(H.toarray())\n",
    "print(vals.shape)\n",
    "print(20*'*')\n",
    "\n",
    "# only find the lowest four energies and states using sparse matrix techniques (Lanczos)\n",
    "vals_sparse, vecs_sparse = slinalg.eigsh(H, k=4, which='SA', return_eigenvectors=True)\n",
    "print('Eigvals exact:', vals[:4])\n",
    "print('Eigvals sparse:', np.sort(vals_sparse[:4])) # eigvals match the full calculation above\n",
    "print(20*'*')\n",
    "\n",
    "# project the Hamiltonian into the Magnetization = 0 sector (e.g. fixing particle number at half-filling)\n",
    "# diagonalize only this projected block\n",
    "chain.projectHam(M=0)\n",
    "H_projected = chain.getHam()\n",
    "print('Hilbert space dimension with M=0 fixed:', chain.getHilbertDim()) # smaller Hilbert space dim\n",
    "vals, vecs = np.linalg.eigh(H_projected.toarray())\n",
    "print('Eigvals in sector:', vals[:4]) # the ground state happens to be in this sector\n",
    "print(vals.shape)\n",
    "\n",
    "# return to the full Hilbert space\n",
    "chain.unprojectHam()"
   ]
  },
  {
   "cell_type": "markdown",
   "id": "950ac6f7-af6a-4eb5-a4d9-1cb408104a1f",
   "metadata": {
    "tags": []
   },
   "source": [
    "## Projecting into sectors"
   ]
  },
  {
   "cell_type": "markdown",
   "id": "2ea55943-a214-4a70-8265-33c3233c744d",
   "metadata": {},
   "source": [
    "For any symmetry of the system, the Hamiltonian is block diagonal in some basis, where each block corresponds to a sector of the Hilbert space at fixed symmetry charge. In the example above, we used the spin-conservation of the model to restrict to the $M_z = 0$ block, reducing the size of the Hamiltonian from $256 \\times 256$ to $70 \\times 70$. In some spin chains with kinematic constraints, like dipole (center of mass) conservation, the Hilbert space can exhibit further fragmentation: each symmetry sector *itself* splits into several disconnected blocks. Using the method `SpinChain.getKrylov()` we can find the size of these fragmented sectors and a set of basis states for each of them. For the expert reader, we note that the code is only designed to detect fragmentation in the computational basis, which has been called *classical fragmentation*."
   ]
  },
  {
   "cell_type": "code",
   "execution_count": 38,
   "id": "cc0d1658-4a19-4aaa-b2ba-4d27847c6a80",
   "metadata": {
    "tags": []
   },
   "outputs": [
    {
     "name": "stdout",
     "output_type": "stream",
     "text": [
      "Full Hilbert Dimension: 4096\n",
      "M = P_dipole = 0 sector dimension: 58\n",
      "M = P_dipole = 0 sector splits into 23 sub-sectors of sizes:\n",
      "[20  5  5  3  3  3  3  1  1  1  1  1  1  1  1  1  1  1  1  1  1  1  1]\n",
      "D_sector = 20\n"
     ]
    }
   ],
   "source": [
    "# initialize a Spin Chain with a Hamiltonian that conserves charge (spin) and its dipole moment\n",
    "syst = SpinChain(spin=1/2, L=12, bc=0)\n",
    "s0, sz, sp, sm = syst.getPauli()\n",
    "syst.setHamTerm([sp, sm, sm, sp], [[j, j+1, j+2, j+3] for j in range(syst.L)]) # dipole hopiing\n",
    "syst.plusConj() # add hermitian conjugate\n",
    "\n",
    "print(f'Full Hilbert Dimension: {syst.getHilbertDim()}')\n",
    "\n",
    "# project in Magnetization = Dipole = 0 symmetry sector\n",
    "syst.projectHam(M=0, Pdip=0)\n",
    "print(f'M = P_dipole = 0 sector dimension: {syst.getHilbertDim()}')\n",
    "\n",
    "# this symmetry sector further splits into disconnected blocks\n",
    "num_sectors, sizes, states_in_sectors = syst.getKrylov(states=True)\n",
    "print(f'M = P_dipole = 0 sector splits into {num_sectors} sub-sectors of sizes:')\n",
    "print(sizes)\n",
    "\n",
    "# we now further project the Hamiltonian into the largest of these sub-sectors\n",
    "states_in_largest_sector = states_in_sectors[0]\n",
    "syst.unprojectHam() # return to full hilbert space before we apply a specific projector onto states_in_largest_sector\n",
    "syst.projectHamSpecific(states_in_largest_sector) # project \n",
    "print(f'D_sector = {syst.getHilbertDim()}')"
   ]
  },
  {
   "cell_type": "markdown",
   "id": "b2eac59d-7b2f-47bf-8d6c-f6817a979f4e",
   "metadata": {},
   "source": [
    "By exploiting the fact that the Hamiltonian breaks into smaller blocks, we have reduced the problem of diagonalizing a $4096 \\times 4096$ matrix to that of diagonalizing a $20 \\times 20$ matrix. This is especially useful for time dynamics: if our initial state is in a specific sub-sector of the Hilbert space, Hamiltonian time evolution will remain inside this sector, and we can effectively ignore all other blocks."
   ]
  },
  {
   "cell_type": "markdown",
   "id": "f6cf78c7-3991-46e8-990e-e5ab5c6cbd91",
   "metadata": {},
   "source": [
    "## Entanglement measures"
   ]
  },
  {
   "cell_type": "markdown",
   "id": "a40242bf-1828-4bd2-ab72-c5f572d109de",
   "metadata": {},
   "source": [
    "In our closed quantum spin chains, we are (almost) always dealing with pure states, so measures of entanglement always involve the entanglement between different subsystems. The most famous such measure is the von Neumann entanglement entropy, which can be found using the method `SpinChain.getEntEntropy()`. In addition to this measure, the class includes methods to extract Rényi entropies, mutual information, and the full entanglement spectrum for any state. Here we show that for a gapped quantum spin chain, the ground state exhibits an entanglement area law, i.e., the entanglement entropy of a region does not scale with system size in 1D."
   ]
  },
  {
   "cell_type": "code",
   "execution_count": 39,
   "id": "b468772a-109f-44b3-bc3a-dad14f4c8310",
   "metadata": {
    "tags": []
   },
   "outputs": [
    {
     "data": {
      "image/png": "[encoded data removed]",
      "text/plain": [
       "<Figure size 600x300 with 2 Axes>"
      ]
     },
     "metadata": {},
     "output_type": "display_data"
    }
   ],
   "source": [
    "# Construct ground state for a tranverse + longitudinal field Ising model of length L\n",
    "# work in the paramegnetic phase (gapped)\n",
    "def ising_gnd(L, J=1, g=2, h=0.1):\n",
    "    chain = SpinChain(spin=1/2, L=L, bc=1) # take PBC to avoid boundary effects\n",
    "    I, X, Y, Z = chain.getPauli('pauli')\n",
    "    chain.setHamTerm([Z, Z], [[j, j+1] for j in range(L)], coeff=-J) # ZZ term\n",
    "    chain.setHamTerm([X], [[j] for j in range(L)], coeff=g) # transverse field\n",
    "    chain.setHamTerm([Z], [[j] for j in range(L)], coeff=h) # longitudinal field\n",
    "    \n",
    "    # just get lowest two energies and states using sparse methods\n",
    "    vals, vecs = slinalg.eigsh(chain.getHam(), k=2, which='SA')\n",
    "    E_gnd, E_ex = vals\n",
    "    psi_gnd, psi_ex = vecs.T\n",
    "    \n",
    "    gap = E_ex - E_gnd\n",
    "    ent = chain.getEntEntropy(state=psi_gnd, region=range(0, L//2)) # entropy function requires state and sites of subsystem\n",
    "    \n",
    "    # return energy gap, ground state, and its half-chain entanglement entropy \n",
    "    return [gap, psi_gnd, ent]\n",
    "\n",
    "# collect gaps and ground states for different system sizes\n",
    "system_sizes = range(6, 16)\n",
    "data = [ising_gnd(L) for L in system_sizes]\n",
    "gaps, gnd_states, entropies = zip(*data)\n",
    "\n",
    "# show that gap remains finite as L -> infinity\n",
    "fig, ax = plt.subplots(1,2, figsize=(6,3))\n",
    "ax[0].plot(system_sizes, gaps)\n",
    "ax[0].set_ylim([2.02, 2.1])\n",
    "ax[0].set_ylabel(\"Gap\")\n",
    "ax[0].set_xlabel(\"L\")\n",
    "\n",
    "# show that entropies don't grow extensively with system size\n",
    "# this is only visible at bigger system sizes\n",
    "ax[1].plot(system_sizes, entropies)\n",
    "# ax[1].set_ylim([0.265, 0.275])\n",
    "ax[1].set_ylabel(\"S_half_chain\")\n",
    "ax[1].set_xlabel(\"L\")\n",
    "fig.tight_layout()\n",
    "\n",
    "plt.show()"
   ]
  },
  {
   "cell_type": "markdown",
   "id": "cbacfdfa-2fcf-4b61-a461-201344acfa3e",
   "metadata": {},
   "source": [
    "## Time evolution"
   ]
  },
  {
   "cell_type": "markdown",
   "id": "d673ccde-f869-44b0-8ddf-835bcd469dde",
   "metadata": {},
   "source": [
    "To study the hamiltonian time evolution of a quantum state, we can use the method `SpinChain.timeEvolve()`, which applies the time evolution operator to the initial state, $e^{-i H t} | \\psi \\rangle$. After time evolution, we can measure local expectation values or global entanglement measures in the final state. The default algorithm uses a Padé approximant technique in `scipy.sparse.linalg.expm_multiply` to directly evolve the state without constructing the unitary matrix, and is relatively stable. There are also two alternative algorithms, `timeEvolveCheb()`, which uses Chebyshev polynomials to recursively update the state, and `timeEvolveKrylov()`, which uses Krylov subspace methods to approximate time evolution. These algorithms are not as extensively tested, but they have the advantage that the user can choose their own convergence criteria, and that they can calculate time evolved expectation values *without* having to construct the final state. Here we just show a brief example of a simple initial state of all spins down $|\\psi(0)\\rangle = | \\downarrow  \\downarrow  \\ldots \\downarrow \\rangle$ evolving under the antiferromagnetic transverse-field Ising hamiltonian."
   ]
  },
  {
   "cell_type": "code",
   "execution_count": 44,
   "id": "36166c8c-6ffd-4432-bf79-405fb0d07334",
   "metadata": {
    "tags": []
   },
   "outputs": [
    {
     "data": {
      "image/png": "[encoded data removed]",
      "text/plain": [
       "<Figure size 600x300 with 2 Axes>"
      ]
     },
     "metadata": {},
     "output_type": "display_data"
    }
   ],
   "source": [
    "syst = SpinChain(spin=1/2, L=10, bc=0)\n",
    "I, X, Y, Z = chain.getPauli('pauli')\n",
    "syst.setHamTerm([Z, Z], [[j, j+1] for j in range(syst.L)], coeff = +1) # AF ising coupling\n",
    "syst.setHamTerm([X], [[j] for j in range(syst.L)], coeff = 0.7) # small transverse field\n",
    "\n",
    "state_init = np.zeros(syst.getHilbertDim())\n",
    "state_init[0] = 1 # only nonzero coeff corresponds to |0000...00> in computational basis\n",
    "\n",
    "# time evolve for two units of time (unit of time/energy set by J = 1 AF coupling)\n",
    "# split evolution into 20 time steps, record local spin at site 0 and half-chain entanglement entropy at each step\n",
    "exp_vals = []\n",
    "ents = []\n",
    "for step in range(20):\n",
    "    state_final = syst.timeEvolve(state=state_init, time=0.1)\n",
    "    \n",
    "    # syntax is getExpectationValue(state, list_of_operators, list_of_sites_where_they_act)\n",
    "    # Subtle: S^z (spin matrix) in my basis is diag(-1/2, 1/2) = -1/2 * Z, where Z is Pauli Z = diag(1, -1)\n",
    "    exp_vals.append(syst.getExpectationValue(state_final, [-Z/2], [0])) \n",
    "    \n",
    "    # syntax is getEntEntropy(state, sites_in_subsystem)\n",
    "    ents.append(syst.getEntEntropy(state_final, range(0, syst.L//2)))\n",
    "    \n",
    "    state_init = state_final\n",
    "\n",
    "# plot < S^z > on site 0 as a function of time\n",
    "fig, ax = plt.subplots(1,2, figsize=(6,3))\n",
    "ax[0].plot(exp_vals)\n",
    "ax[0].set_ylabel(r\"$\\langle \\, S^z (x=0) \\, \\rangle$\")\n",
    "ax[0].set_xlabel(\"time steps\")\n",
    "\n",
    "# show that entanglement of system grows ballistically\n",
    "ax[1].plot(ents)\n",
    "ax[1].set_ylabel(\"S_half_chain\")\n",
    "ax[1].set_xlabel(\"time steps\")\n",
    "fig.tight_layout()\n",
    "\n",
    "plt.show()"
   ]
  },
  {
   "cell_type": "markdown",
   "id": "61e88e0e-36d3-4900-8c63-c70c907f4be9",
   "metadata": {
    "tags": []
   },
   "source": [
    "Having gone through these examples, you can now mix and match the methods in the SpinChain class to study a variety of 1D interacting quantum models, both in and out of equilibrium."
   ]
  }
 ],
 "metadata": {
  "kernelspec": {
   "display_name": "Python 3 (ipykernel)",
   "language": "python",
   "name": "python3"
  },
  "language_info": {
   "codemirror_mode": {
    "name": "ipython",
    "version": 3
   },
   "file_extension": ".py",
   "mimetype": "text/x-python",
   "name": "python",
   "nbconvert_exporter": "python",
   "pygments_lexer": "ipython3",
   "version": "3.10.11"
  }
 },
 "nbformat": 4,
 "nbformat_minor": 5
}
